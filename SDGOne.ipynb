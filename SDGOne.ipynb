{
  "nbformat": 4,
  "nbformat_minor": 0,
  "metadata": {
    "colab": {
      "provenance": [],
      "authorship_tag": "ABX9TyN1kA+SgbTOUnjgQF/DQWAL",
      "include_colab_link": true
    },
    "kernelspec": {
      "name": "python3",
      "display_name": "Python 3"
    },
    "language_info": {
      "name": "python"
    }
  },
  "cells": [
    {
      "cell_type": "markdown",
      "metadata": {
        "id": "view-in-github",
        "colab_type": "text"
      },
      "source": [
        "<a href=\"https://colab.research.google.com/github/ProfEspinosaAIML/SDGOne/blob/main/SDGOne.ipynb\" target=\"_parent\"><img src=\"https://colab.research.google.com/assets/colab-badge.svg\" alt=\"Open In Colab\"/></a>"
      ]
    },
    {
      "cell_type": "code",
      "execution_count": null,
      "metadata": {
        "colab": {
          "base_uri": "https://localhost:8080/"
        },
        "id": "LJdZ-l3JMsIE",
        "outputId": "aedd0002-95ad-4d6b-cd64-96cf5f81caa8"
      },
      "outputs": [
        {
          "output_type": "stream",
          "name": "stdout",
          "text": [
            "hello\n"
          ]
        }
      ],
      "source": [
        "import pandas as pd\n",
        "import matplotlib.pyplot as plt\n",
        "import seaborn as sns\n",
        "import sklearn\n",
        "import warnings\n",
        "\n",
        "from sklearn.preprocessing import LabelEncoder\n",
        "from sklearn.impute import KNNImputer\n",
        "from sklearn.model_selection import train_test_split\n",
        "from sklearn.preprocessing import StandardScaler\n",
        "from sklearn.metrics import f1_score\n",
        "from sklearn.ensemble import RandomForestRegressor\n",
        "from sklearn.ensemble import RandomForestRegressor\n",
        "from sklearn.model_selection import cross_val_score\n",
        "from sklearn.datasets import fetch_kddcup99\n",
        "\n",
        "warnings.filterwarnings('ignore')\n"
      ]
    },
    {
      "cell_type": "code",
      "source": [
        "data = fetch_kddcup99(subset='SA')\n",
        "data"
      ],
      "metadata": {
        "id": "GlZpQb6ZXZk0",
        "outputId": "92cdf4f8-7a1e-4eba-d112-08477f18bb10",
        "colab": {
          "base_uri": "https://localhost:8080/"
        }
      },
      "execution_count": 5,
      "outputs": [
        {
          "output_type": "execute_result",
          "data": {
            "text/plain": [
              "{'data': array([[0, b'tcp', b'http', ..., 0.0, 0.0, 0.0],\n",
              "        [0, b'tcp', b'http', ..., 0.0, 0.0, 0.0],\n",
              "        [0, b'tcp', b'http', ..., 0.0, 0.0, 0.0],\n",
              "        ...,\n",
              "        [0, b'icmp', b'ecr_i', ..., 0.0, 0.0, 0.0],\n",
              "        [0, b'icmp', b'ecr_i', ..., 0.0, 0.0, 0.0],\n",
              "        [0, b'icmp', b'ecr_i', ..., 0.0, 0.0, 0.0]], dtype=object),\n",
              " 'target': array([b'normal.', b'normal.', b'normal.', ..., b'smurf.', b'smurf.',\n",
              "        b'smurf.'], dtype=object),\n",
              " 'frame': None,\n",
              " 'target_names': ['labels'],\n",
              " 'feature_names': ['duration',\n",
              "  'protocol_type',\n",
              "  'service',\n",
              "  'flag',\n",
              "  'src_bytes',\n",
              "  'dst_bytes',\n",
              "  'land',\n",
              "  'wrong_fragment',\n",
              "  'urgent',\n",
              "  'hot',\n",
              "  'num_failed_logins',\n",
              "  'logged_in',\n",
              "  'num_compromised',\n",
              "  'root_shell',\n",
              "  'su_attempted',\n",
              "  'num_root',\n",
              "  'num_file_creations',\n",
              "  'num_shells',\n",
              "  'num_access_files',\n",
              "  'num_outbound_cmds',\n",
              "  'is_host_login',\n",
              "  'is_guest_login',\n",
              "  'count',\n",
              "  'srv_count',\n",
              "  'serror_rate',\n",
              "  'srv_serror_rate',\n",
              "  'rerror_rate',\n",
              "  'srv_rerror_rate',\n",
              "  'same_srv_rate',\n",
              "  'diff_srv_rate',\n",
              "  'srv_diff_host_rate',\n",
              "  'dst_host_count',\n",
              "  'dst_host_srv_count',\n",
              "  'dst_host_same_srv_rate',\n",
              "  'dst_host_diff_srv_rate',\n",
              "  'dst_host_same_src_port_rate',\n",
              "  'dst_host_srv_diff_host_rate',\n",
              "  'dst_host_serror_rate',\n",
              "  'dst_host_srv_serror_rate',\n",
              "  'dst_host_rerror_rate',\n",
              "  'dst_host_srv_rerror_rate'],\n",
              " 'DESCR': '.. _kddcup99_dataset:\\n\\nKddcup 99 dataset\\n-----------------\\n\\nThe KDD Cup \\'99 dataset was created by processing the tcpdump portions\\nof the 1998 DARPA Intrusion Detection System (IDS) Evaluation dataset,\\ncreated by MIT Lincoln Lab [2]_. The artificial data (described on the `dataset\\'s\\nhomepage <https://kdd.ics.uci.edu/databases/kddcup99/kddcup99.html>`_) was\\ngenerated using a closed network and hand-injected attacks to produce a\\nlarge number of different types of attack with normal activity in the\\nbackground. As the initial goal was to produce a large training set for\\nsupervised learning algorithms, there is a large proportion (80.1%) of\\nabnormal data which is unrealistic in real world, and inappropriate for\\nunsupervised anomaly detection which aims at detecting \\'abnormal\\' data, i.e.:\\n\\n* qualitatively different from normal data\\n* in large minority among the observations.\\n\\nWe thus transform the KDD Data set into two different data sets: SA and SF.\\n\\n* SA is obtained by simply selecting all the normal data, and a small\\n  proportion of abnormal data to gives an anomaly proportion of 1%.\\n\\n* SF is obtained as in [3]_\\n  by simply picking up the data whose attribute logged_in is positive, thus\\n  focusing on the intrusion attack, which gives a proportion of 0.3% of\\n  attack.\\n\\n* http and smtp are two subsets of SF corresponding with third feature\\n  equal to \\'http\\' (resp. to \\'smtp\\').\\n\\nGeneral KDD structure:\\n\\n================      ==========================================\\nSamples total         4898431\\nDimensionality        41\\nFeatures              discrete (int) or continuous (float)\\nTargets               str, \\'normal.\\' or name of the anomaly type\\n================      ==========================================\\n\\nSA structure:\\n\\n================      ==========================================\\nSamples total         976158\\nDimensionality        41\\nFeatures              discrete (int) or continuous (float)\\nTargets               str, \\'normal.\\' or name of the anomaly type\\n================      ==========================================\\n\\nSF structure:\\n\\n================      ==========================================\\nSamples total         699691\\nDimensionality        4\\nFeatures              discrete (int) or continuous (float)\\nTargets               str, \\'normal.\\' or name of the anomaly type\\n================      ==========================================\\n\\nhttp structure:\\n\\n================      ==========================================\\nSamples total         619052\\nDimensionality        3\\nFeatures              discrete (int) or continuous (float)\\nTargets               str, \\'normal.\\' or name of the anomaly type\\n================      ==========================================\\n\\nsmtp structure:\\n\\n================      ==========================================\\nSamples total         95373\\nDimensionality        3\\nFeatures              discrete (int) or continuous (float)\\nTargets               str, \\'normal.\\' or name of the anomaly type\\n================      ==========================================\\n\\n:func:`sklearn.datasets.fetch_kddcup99` will load the kddcup99 dataset; it\\nreturns a dictionary-like object with the feature matrix in the ``data`` member\\nand the target values in ``target``. The \"as_frame\" optional argument converts\\n``data`` into a pandas DataFrame and ``target`` into a pandas Series. The\\ndataset will be downloaded from the web if necessary.\\n\\n.. rubric:: References\\n\\n.. [2] Analysis and Results of the 1999 DARPA Off-Line Intrusion\\n       Detection Evaluation, Richard Lippmann, Joshua W. Haines,\\n       David J. Fried, Jonathan Korba, Kumar Das.\\n\\n.. [3] K. Yamanishi, J.-I. Takeuchi, G. Williams, and P. Milne. Online\\n       unsupervised outlier detection using finite mixtures with\\n       discounting learning algorithms. In Proceedings of the sixth\\n       ACM SIGKDD international conference on Knowledge discovery\\n       and data mining, pages 320-324. ACM Press, 2000.\\n'}"
            ]
          },
          "metadata": {},
          "execution_count": 5
        }
      ]
    }
  ]
}